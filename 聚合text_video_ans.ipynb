{
 "cells": [
  {
   "cell_type": "markdown",
   "id": "8e7422b7-3062-4f3b-bd80-b682e2183636",
   "metadata": {},
   "source": [
    "# Video"
   ]
  },
  {
   "cell_type": "code",
   "execution_count": null,
   "id": "99d23fa2-7b8e-4114-8000-c91ecc07c177",
   "metadata": {},
   "outputs": [],
   "source": [
    "import json\n",
    "import os\n",
    "\n",
    "PARSED_VIDEO_FOLDER = \"./parsed_data/memor_video_answers\""
   ]
  },
  {
   "cell_type": "code",
   "execution_count": null,
   "id": "892d7fa7-96a3-46c0-8ec7-bbe0060dec36",
   "metadata": {},
   "outputs": [],
   "source": [
    "from transformers import BertTokenizer, BertModel\n",
    "tokenizer = BertTokenizer.from_pretrained('bert-base-uncased')\n",
    "model = BertModel.from_pretrained(\"bert-base-uncased\")"
   ]
  },
  {
   "cell_type": "code",
   "execution_count": null,
   "id": "91719d14-1b61-4f17-ba7f-4158238b1fed",
   "metadata": {},
   "outputs": [],
   "source": [
    "#text = \"Replace me by any text you'd like.\"\n",
    "#encoded_input = tokenizer(text, return_tensors=\"pt\") # padding=True\n",
    "#output = model(encoded_input)"
   ]
  },
  {
   "cell_type": "code",
   "execution_count": null,
   "id": "19428b1e-de85-4a7d-b991-2d6959775755",
   "metadata": {},
   "outputs": [],
   "source": [
    "#encoded_input.to(\"cuda\")"
   ]
  },
  {
   "cell_type": "code",
   "execution_count": null,
   "id": "f020a6dc-561a-4219-a732-d52279317df2",
   "metadata": {},
   "outputs": [],
   "source": [
    "#output = model(**encoded_input)"
   ]
  },
  {
   "cell_type": "code",
   "execution_count": null,
   "id": "3c9c48a9-013e-4a0f-b1be-c729131a200b",
   "metadata": {},
   "outputs": [],
   "source": [
    "next(model.parameters()).is_cuda"
   ]
  },
  {
   "cell_type": "code",
   "execution_count": null,
   "id": "7456385e-b841-425c-8cc2-f1cb3a1606ff",
   "metadata": {},
   "outputs": [],
   "source": [
    "# output[1].tolist()[0]"
   ]
  },
  {
   "cell_type": "code",
   "execution_count": null,
   "id": "05b530fd-5b52-4b19-83e5-edafbdb7a644",
   "metadata": {},
   "outputs": [],
   "source": [
    "gathered_json = {}"
   ]
  },
  {
   "cell_type": "code",
   "execution_count": null,
   "id": "9a669c06-2629-49b5-b20f-2a814c4fe21d",
   "metadata": {},
   "outputs": [],
   "source": [
    "from tqdm.auto import tqdm\n",
    "\n",
    "for clip in tqdm(sorted(os.listdir(PARSED_VIDEO_FOLDER))):\n",
    "    for json_file in sorted(os.listdir(os.path.join(PARSED_VIDEO_FOLDER, clip))):\n",
    "        json_path = os.path.join(PARSED_VIDEO_FOLDER, clip, json_file)\n",
    "        if \".ipynb\" in json_path:\n",
    "            continue\n",
    "        \n",
    "        ii = json_file.split(\".\")[0]\n",
    "        index = \"{}+{}\".format(clip, ii)\n",
    "        video_json = json.load(open(json_path))\n",
    "        \n",
    "        text = video_json[\"description\"]\n",
    "        encoded_input = tokenizer(text, return_tensors=\"pt\")\n",
    "        output = model(**encoded_input)\n",
    "        \n",
    "        # gather output (pool)\n",
    "        gathered_json[index] = output[1].tolist()[0]\n",
    "    \n",
    "    # break"
   ]
  },
  {
   "cell_type": "code",
   "execution_count": null,
   "id": "cd1635a6-a117-4d39-aed3-723e2fb91e37",
   "metadata": {},
   "outputs": [],
   "source": [
    "len(gathered_json['S01E01_000+0'])"
   ]
  },
  {
   "cell_type": "code",
   "execution_count": null,
   "id": "61749173-acd8-4c8a-a03f-af7e8f38721b",
   "metadata": {},
   "outputs": [],
   "source": [
    "print(*gathered_json['S01E01_000+1'])"
   ]
  },
  {
   "cell_type": "code",
   "execution_count": null,
   "id": "414be2e8-09fa-4c3e-bf9c-4eb30c984811",
   "metadata": {},
   "outputs": [],
   "source": [
    "gathered_json.keys()"
   ]
  },
  {
   "cell_type": "code",
   "execution_count": null,
   "id": "abc07889-4004-48f9-bdbb-b31c223c461d",
   "metadata": {},
   "outputs": [],
   "source": [
    "json.dump(gathered_json, open(PARSED_VIDEO_FOLDER + \"/../gathered_video_ans.json\", \"w\"), indent = 4)"
   ]
  },
  {
   "cell_type": "code",
   "execution_count": null,
   "id": "72f41b38-672d-4912-8bc3-e39157aa55b8",
   "metadata": {},
   "outputs": [],
   "source": [
    "pause"
   ]
  },
  {
   "cell_type": "markdown",
   "id": "72ede178-6bd2-4d0f-a7b1-394e5a32e6f8",
   "metadata": {},
   "source": [
    "# Text"
   ]
  },
  {
   "cell_type": "code",
   "execution_count": null,
   "id": "13780cab-459d-4462-9e1e-dbe9b59dc3cc",
   "metadata": {},
   "outputs": [],
   "source": [
    "import json\n",
    "import os"
   ]
  },
  {
   "cell_type": "code",
   "execution_count": null,
   "id": "72aabe30-0034-427c-b20b-5c4433b88fa4",
   "metadata": {},
   "outputs": [],
   "source": [
    "PARSED_TEXT_FOLDER = \"./parsed_data/memor_text_answers\""
   ]
  },
  {
   "cell_type": "code",
   "execution_count": null,
   "id": "b5b549cb-edda-45b6-a269-655b419400cd",
   "metadata": {},
   "outputs": [],
   "source": [
    "gathered_json = {}"
   ]
  },
  {
   "cell_type": "code",
   "execution_count": null,
   "id": "d1494d7d-ec28-42c7-a8d0-8709196a2a79",
   "metadata": {},
   "outputs": [],
   "source": [
    "from tqdm.auto import tqdm\n",
    "\n",
    "for clip in tqdm(sorted(os.listdir(PARSED_TEXT_FOLDER))):\n",
    "    for json_file in sorted(os.listdir(os.path.join(PARSED_TEXT_FOLDER, clip))):\n",
    "        json_path = os.path.join(PARSED_TEXT_FOLDER, clip, json_file)\n",
    "        if \".ipynb\" in json_path:\n",
    "            continue\n",
    "        \n",
    "        ii = json_file.split(\".\")[0]\n",
    "        index = \"{}+{}\".format(clip, ii)\n",
    "        text_json = json.load(open(json_path))\n",
    "        \n",
    "        gathered_json[index] = text_json[\"answer_vec\"]"
   ]
  },
  {
   "cell_type": "code",
   "execution_count": null,
   "id": "13b0b655-27ca-49b8-87ba-d4d343210a44",
   "metadata": {},
   "outputs": [],
   "source": [
    "json.dump(gathered_json, open(PARSED_TEXT_FOLDER + \"/../gathered_text_ans.json\", \"w\"), indent = 4)"
   ]
  },
  {
   "cell_type": "code",
   "execution_count": null,
   "id": "703d7f20-25d6-4b34-95bd-4411c579bb64",
   "metadata": {},
   "outputs": [],
   "source": []
  }
 ],
 "metadata": {
  "kernelspec": {
   "display_name": "mm",
   "language": "python",
   "name": "mm"
  },
  "language_info": {
   "codemirror_mode": {
    "name": "ipython",
    "version": 3
   },
   "file_extension": ".py",
   "mimetype": "text/x-python",
   "name": "python",
   "nbconvert_exporter": "python",
   "pygments_lexer": "ipython3",
   "version": "3.7.11"
  }
 },
 "nbformat": 4,
 "nbformat_minor": 5
}
