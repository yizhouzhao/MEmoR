{
 "cells": [
  {
   "cell_type": "code",
   "execution_count": 1,
   "id": "70253eab-b75d-4c26-a196-032af9c7d959",
   "metadata": {},
   "outputs": [],
   "source": [
    "import argparse\n",
    "import collections\n",
    "import torch\n",
    "import numpy as np\n",
    "import model.loss as module_loss\n",
    "import model.metric as module_metric\n",
    "from parse_config import ConfigParser\n",
    "from utils.util import create_model, create_dataloader, create_trainer\n"
   ]
  },
  {
   "cell_type": "code",
   "execution_count": 2,
   "id": "a2d361f1-bae5-4e03-8e52-1a8d3072e0d6",
   "metadata": {},
   "outputs": [],
   "source": [
    "# fix random seeds for reproducibility\n",
    "SEED = 125\n",
    "torch.manual_seed(SEED)\n",
    "torch.backends.cudnn.deterministic = True\n",
    "torch.backends.cudnn.benchmark = False\n",
    "np.random.seed(SEED)"
   ]
  },
  {
   "cell_type": "code",
   "execution_count": 3,
   "id": "1385acc5-6924-4929-a7dc-de49edad74a3",
   "metadata": {},
   "outputs": [],
   "source": [
    "args = argparse.ArgumentParser(description='Emotion Reasoning in Daily Life')\n",
    "args.add_argument('-c', '--config', default='train.json', type=str,\n",
    "                  help='config file path (default: None)')\n",
    "args.add_argument('-r', '--resume', default=None, type=str,\n",
    "                  help='path to latest checkpoint (default: None)')\n",
    "args.add_argument('-d', '--device', default=None, type=str,\n",
    "                  help='indices of GPUs to enable (default: all)')\n",
    "\n",
    "# custom cli options to modify configuration from default values given in json file.\n",
    "CustomArgs = collections.namedtuple('CustomArgs', 'flags type target')\n",
    "options = [\n",
    "    CustomArgs(['--lr', '--learning_rate'], type=float, target='optimizer;args;lr'),\n",
    "    CustomArgs(['--bs', '--batch_size'], type=int, target='data_loader;args;batch_size')\n",
    "]"
   ]
  },
  {
   "cell_type": "code",
   "execution_count": 4,
   "id": "da448fcd-e28d-48a2-9847-e6d7020b6cd3",
   "metadata": {},
   "outputs": [
    {
     "name": "stdout",
     "output_type": "stream",
     "text": [
      "jupyter\n"
     ]
    }
   ],
   "source": [
    "config = ConfigParser.from_args(args, options)"
   ]
  },
  {
   "cell_type": "code",
   "execution_count": null,
   "id": "93f2dc02-6315-4054-ac23-84cbe07f8b23",
   "metadata": {},
   "outputs": [
    {
     "name": "stdout",
     "output_type": "stream",
     "text": [
      "Initializing VisualFeatureExtractor...\n",
      "Initializing AudioFeatureExtracor...\n",
      "Initializing TextFeatureExtractor...\n"
     ]
    },
    {
     "name": "stderr",
     "output_type": "stream",
     "text": [
      "  0%|▏                                                                                             | 12/6829 [00:00<01:05, 103.52it/s]"
     ]
    },
    {
     "name": "stdout",
     "output_type": "stream",
     "text": [
      "Initializing PersonalityFeatureExtractor...\n",
      "vectorize features.....\n"
     ]
    },
    {
     "name": "stderr",
     "output_type": "stream",
     "text": [
      " 37%|██████████████████████████████████▏                                                         | 2536/6829 [00:20<00:29, 147.55it/s]"
     ]
    }
   ],
   "source": [
    "logger = config.get_logger('train')\n",
    "\n",
    "# setup data_loader instances\n",
    "data_loader = create_dataloader(config)\n",
    "valid_data_loader = data_loader.split_validation()"
   ]
  },
  {
   "cell_type": "code",
   "execution_count": 6,
   "id": "0ea0cdeb-f3dc-4b80-82b8-0c0b587360a9",
   "metadata": {},
   "outputs": [
    {
     "name": "stdout",
     "output_type": "stream",
     "text": [
      "model [AMER] was created\n"
     ]
    }
   ],
   "source": [
    "\n",
    "# build model architecture, then print to console\n",
    "model = create_model(config)"
   ]
  },
  {
   "cell_type": "code",
   "execution_count": 7,
   "id": "66d86e6d-4c49-4bb0-9625-675d62d1b609",
   "metadata": {},
   "outputs": [
    {
     "data": {
      "text/plain": [
       "AMER()"
      ]
     },
     "execution_count": 7,
     "metadata": {},
     "output_type": "execute_result"
    }
   ],
   "source": [
    "model"
   ]
  },
  {
   "cell_type": "code",
   "execution_count": null,
   "id": "d18553c2-c8ce-44c4-96b9-7f14dacea55a",
   "metadata": {},
   "outputs": [],
   "source": []
  }
 ],
 "metadata": {
  "kernelspec": {
   "display_name": "mm",
   "language": "python",
   "name": "mm"
  },
  "language_info": {
   "codemirror_mode": {
    "name": "ipython",
    "version": 3
   },
   "file_extension": ".py",
   "mimetype": "text/x-python",
   "name": "python",
   "nbconvert_exporter": "python",
   "pygments_lexer": "ipython3",
   "version": "3.7.11"
  }
 },
 "nbformat": 4,
 "nbformat_minor": 5
}
