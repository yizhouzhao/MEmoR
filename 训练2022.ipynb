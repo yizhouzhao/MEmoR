{
 "cells": [
  {
   "cell_type": "code",
   "execution_count": 1,
   "id": "70253eab-b75d-4c26-a196-032af9c7d959",
   "metadata": {
    "tags": []
   },
   "outputs": [],
   "source": [
    "import argparse\n",
    "import collections\n",
    "import torch\n",
    "import numpy as np\n",
    "import model.loss as module_loss\n",
    "import model.metric as module_metric\n",
    "from parse_config import ConfigParser\n",
    "from utils.util import create_model, create_dataloader, create_trainer\n"
   ]
  },
  {
   "cell_type": "code",
   "execution_count": 2,
   "id": "a2d361f1-bae5-4e03-8e52-1a8d3072e0d6",
   "metadata": {},
   "outputs": [],
   "source": [
    "# fix random seeds for reproducibility\n",
    "SEED = 125\n",
    "torch.manual_seed(SEED)\n",
    "torch.backends.cudnn.deterministic = True\n",
    "torch.backends.cudnn.benchmark = False\n",
    "np.random.seed(SEED)"
   ]
  },
  {
   "cell_type": "code",
   "execution_count": 3,
   "id": "1385acc5-6924-4929-a7dc-de49edad74a3",
   "metadata": {},
   "outputs": [],
   "source": [
    "args = argparse.ArgumentParser(description='Emotion Reasoning in Daily Life')\n",
    "args.add_argument('-c', '--config', default='train.json', type=str,\n",
    "                  help='config file path (default: None)')\n",
    "args.add_argument('-r', '--resume', default=None, type=str,\n",
    "                  help='path to latest checkpoint (default: None)')\n",
    "args.add_argument('-d', '--device', default=None, type=str,\n",
    "                  help='indices of GPUs to enable (default: all)')\n",
    "\n",
    "# custom cli options to modify configuration from default values given in json file.\n",
    "CustomArgs = collections.namedtuple('CustomArgs', 'flags type target')\n",
    "options = [\n",
    "    CustomArgs(['--lr', '--learning_rate'], type=float, target='optimizer;args;lr'),\n",
    "    CustomArgs(['--bs', '--batch_size'], type=int, target='data_loader;args;batch_size')\n",
    "]"
   ]
  },
  {
   "cell_type": "code",
   "execution_count": 4,
   "id": "da448fcd-e28d-48a2-9847-e6d7020b6cd3",
   "metadata": {},
   "outputs": [
    {
     "name": "stdout",
     "output_type": "stream",
     "text": [
      "jupyter\n"
     ]
    }
   ],
   "source": [
    "config = ConfigParser.from_args(args, options)"
   ]
  },
  {
   "cell_type": "code",
   "execution_count": 5,
   "id": "e18cbdf5-d8ed-410b-a543-dbf5d7ea9a1a",
   "metadata": {},
   "outputs": [
    {
     "name": "stdout",
     "output_type": "stream",
     "text": [
      "OrderedDict([('name', 'Train_9_2022'), ('message', 'MEmoR Baseline'), ('anno_file', 'data/anno.json'), ('data_file', 'data/data.json'), ('id_file', 'data/train_id.txt'), ('emo_type', 'primary'), ('speakers', ['sheldon', 'leonard', 'howard', 'rajesh', 'penny', 'bernadette', 'amy', 'others']), ('audio', OrderedDict([('feature_file', 'data/features/audio_features.json'), ('feature_dim', 6373)])), ('text', OrderedDict([('bert_model_name', 'bert-large-uncased'), ('feature_file', 'data/features/text_features.json'), ('feature_dim', 1024)])), ('visual', OrderedDict([('frame_path', 'data/clips_frames'), ('faces_feature_dir', 'data/features/visual_features/face_features'), ('faces_names_dir', 'data/features/visual_features/face_names'), ('obj_feature_dir', 'data/features/visual_features/object_features'), ('env_feature_dir', 'data/features/visual_features/environment_features'), ('dim_env', 2048), ('dim_obj', 1230), ('dim_face', 1024)])), ('personality', OrderedDict([('used', True), ('anno_file', 'data/features/character_features.csv'), ('feature_dim', 118)])), ('n_gpu', 1), ('data_loader', OrderedDict([('type', 'MEmoRDataLoader'), ('args', OrderedDict([('batch_size', 8), ('shuffle', True), ('validation_split', 0.2), ('num_workers', 2), ('seed', 2020)]))])), ('model', OrderedDict([('type', 'AMER'), ('args', OrderedDict([('D_e', 128)]))])), ('optimizer', OrderedDict([('type', 'Adam'), ('args', OrderedDict([('lr', 5e-05), ('weight_decay', 0), ('amsgrad', True)]))])), ('loss', 'nll_loss'), ('metrics', ['accuracy', 'macro_f1', 'weighted_f1']), ('lr_scheduler', OrderedDict([('type', 'StepLR'), ('args', OrderedDict([('step_size', 50), ('gamma', 0.9)]))])), ('trainer', OrderedDict([('type', 'MEmoRTrainer'), ('epochs', 1000), ('save_dir', 'saved/'), ('save_period', 50), ('verbosity', 2), ('monitor', 'max val_accuracy'), ('early_stop', 50), ('tensorboard', True)]))])\n"
     ]
    }
   ],
   "source": [
    "print(config._config)"
   ]
  },
  {
   "cell_type": "code",
   "execution_count": 5,
   "id": "93f2dc02-6315-4054-ac23-84cbe07f8b23",
   "metadata": {},
   "outputs": [
    {
     "name": "stdout",
     "output_type": "stream",
     "text": [
      "Initializing VisualFeatureExtractor...\n",
      "Initializing AudioFeatureExtracor...\n",
      "Initializing TextFeatureExtractor...\n"
     ]
    },
    {
     "name": "stderr",
     "output_type": "stream",
     "text": [
      "  0%|▏                                                                              | 12/6829 [00:00<01:06, 102.97it/s]"
     ]
    },
    {
     "name": "stdout",
     "output_type": "stream",
     "text": [
      "Initializing PersonalityFeatureExtractor...\n",
      "vectorize features.....\n"
     ]
    },
    {
     "name": "stderr",
     "output_type": "stream",
     "text": [
      "100%|█████████████████████████████████████████████████████████████████████████████| 6829/6829 [01:00<00:00, 113.10it/s]\n"
     ]
    },
    {
     "name": "stdout",
     "output_type": "stream",
     "text": [
      "dataset [MEmoRDataLoader] was created\n"
     ]
    }
   ],
   "source": [
    "logger = config.get_logger('train')\n",
    "\n",
    "# setup data_loader instances\n",
    "data_loader = create_dataloader(config)\n",
    "valid_data_loader = data_loader.split_validation()"
   ]
  },
  {
   "cell_type": "code",
   "execution_count": 6,
   "id": "0ea0cdeb-f3dc-4b80-82b8-0c0b587360a9",
   "metadata": {},
   "outputs": [
    {
     "name": "stdout",
     "output_type": "stream",
     "text": [
      "model [AMER] was created\n"
     ]
    }
   ],
   "source": [
    "# build model architecture, then print to console\n",
    "model = create_model(config)"
   ]
  },
  {
   "cell_type": "code",
   "execution_count": 6,
   "id": "66d86e6d-4c49-4bb0-9625-675d62d1b609",
   "metadata": {},
   "outputs": [
    {
     "ename": "NameError",
     "evalue": "name 'model' is not defined",
     "output_type": "error",
     "traceback": [
      "\u001b[0;31m---------------------------------------------------------------------------\u001b[0m",
      "\u001b[0;31mNameError\u001b[0m                                 Traceback (most recent call last)",
      "\u001b[0;32m/tmp/ipykernel_32314/199159985.py\u001b[0m in \u001b[0;36m<module>\u001b[0;34m\u001b[0m\n\u001b[0;32m----> 1\u001b[0;31m \u001b[0mmodel\u001b[0m\u001b[0;34m.\u001b[0m\u001b[0mannos\u001b[0m\u001b[0;34m[\u001b[0m\u001b[0;36m0\u001b[0m\u001b[0;34m]\u001b[0m\u001b[0;34m\u001b[0m\u001b[0;34m\u001b[0m\u001b[0m\n\u001b[0m",
      "\u001b[0;31mNameError\u001b[0m: name 'model' is not defined"
     ]
    }
   ],
   "source": [
    "model.annos[0]"
   ]
  },
  {
   "cell_type": "code",
   "execution_count": 7,
   "id": "d18553c2-c8ce-44c4-96b9-7f14dacea55a",
   "metadata": {},
   "outputs": [],
   "source": [
    "dataset = data_loader.dataset"
   ]
  },
  {
   "cell_type": "code",
   "execution_count": 16,
   "id": "eb28d98c-0a0a-4308-bf66-f64a3e917cff",
   "metadata": {},
   "outputs": [
    {
     "data": {
      "text/plain": [
       "torch.Size([8, 118])"
      ]
     },
     "execution_count": 16,
     "metadata": {},
     "output_type": "execute_result"
    }
   ],
   "source": [
    "dataset.personality_list.shape"
   ]
  },
  {
   "cell_type": "code",
   "execution_count": 18,
   "id": "7660f444-03c8-4e1f-8600-00d63e683a53",
   "metadata": {},
   "outputs": [],
   "source": [
    "anno = dataset.annos[0]"
   ]
  },
  {
   "cell_type": "code",
   "execution_count": 20,
   "id": "937b6956-d049-402a-90da-31558e2888b3",
   "metadata": {},
   "outputs": [],
   "source": [
    "clip = anno['clip']\n",
    "target_character = anno['character']\n",
    "target_moment = anno['moment']\n",
    "on_characters = dataset.data[clip]['on_character']"
   ]
  },
  {
   "cell_type": "code",
   "execution_count": 21,
   "id": "3fab3c77-c1fc-4d3c-9361-4ec17ee2f1e6",
   "metadata": {},
   "outputs": [
    {
     "data": {
      "text/plain": [
       "[0, 1]"
      ]
     },
     "execution_count": 21,
     "metadata": {},
     "output_type": "execute_result"
    }
   ],
   "source": [
    "on_characters"
   ]
  },
  {
   "cell_type": "code",
   "execution_count": 22,
   "id": "791cee2c-4b5f-403b-9209-0e46c756d04d",
   "metadata": {},
   "outputs": [],
   "source": [
    "if target_character not in on_characters:\n",
    "    on_characters.append(target_character)\n",
    "on_characters = sorted(on_characters)"
   ]
  },
  {
   "cell_type": "code",
   "execution_count": 23,
   "id": "7e402f7c-54cc-40d1-9b07-020f3cf637b8",
   "metadata": {},
   "outputs": [
    {
     "data": {
      "text/plain": [
       "[0, 1]"
      ]
     },
     "execution_count": 23,
     "metadata": {},
     "output_type": "execute_result"
    }
   ],
   "source": [
    "on_characters"
   ]
  },
  {
   "cell_type": "code",
   "execution_count": 26,
   "id": "e25e3afd-b979-41a7-99ee-ea0b77d32061",
   "metadata": {},
   "outputs": [],
   "source": [
    "self = dataset"
   ]
  },
  {
   "cell_type": "code",
   "execution_count": 27,
   "id": "aa94f074-1a18-41ee-a004-d3066877521b",
   "metadata": {},
   "outputs": [],
   "source": [
    "charcaters_seq, time_seq, target_loc, personality_seq = [], [], [], []"
   ]
  },
  {
   "cell_type": "code",
   "execution_count": 28,
   "id": "5f148df4-7634-45bc-b54d-f9ff9063dc24",
   "metadata": {},
   "outputs": [],
   "source": [
    "for character in on_characters:\n",
    "    for ii in range(len(self.data[clip]['seg_start'])):\n",
    "        charcaters_seq.append([0 if character != i else 1 for i in range(len(config['speakers']))])\n",
    "        time_seq.append(ii)\n",
    "        personality_seq.append(self.personality_list[character])\n",
    "        if character == target_character and self.data[clip]['seg_start'][ii] <= target_moment < self.data[clip]['seg_end'][ii]:\n",
    "            target_loc.append(1)\n",
    "        else:\n",
    "            target_loc.append(0)"
   ]
  },
  {
   "cell_type": "code",
   "execution_count": 29,
   "id": "9d35c79b-430c-45f8-8151-32a626c1ff82",
   "metadata": {},
   "outputs": [
    {
     "data": {
      "text/plain": [
       "[0, 0, 1, 0, 0, 0]"
      ]
     },
     "execution_count": 29,
     "metadata": {},
     "output_type": "execute_result"
    }
   ],
   "source": [
    "target_loc"
   ]
  },
  {
   "cell_type": "code",
   "execution_count": 44,
   "id": "e297b54e-5578-457d-b0da-22910a0a27b0",
   "metadata": {},
   "outputs": [
    {
     "data": {
      "text/plain": [
       "torch.Size([6, 1024])"
      ]
     },
     "execution_count": 44,
     "metadata": {},
     "output_type": "execute_result"
    }
   ],
   "source": [
    "dataset.text_features[0].shape"
   ]
  },
  {
   "cell_type": "code",
   "execution_count": 41,
   "id": "80da9bc7-88ee-4942-be0f-d60748d60810",
   "metadata": {},
   "outputs": [
    {
     "data": {
      "text/plain": [
       "tensor([0, 1, 0, 1, 0, 1], dtype=torch.int8)"
      ]
     },
     "execution_count": 41,
     "metadata": {},
     "output_type": "execute_result"
    }
   ],
   "source": [
    "dataset.text_valids[0]"
   ]
  },
  {
   "cell_type": "code",
   "execution_count": 33,
   "id": "2e2d3e5c-8807-4b3b-b1d7-067e855dafa4",
   "metadata": {},
   "outputs": [
    {
     "data": {
      "text/plain": [
       "[[1, 0, 0, 0, 0, 0, 0, 0],\n",
       " [1, 0, 0, 0, 0, 0, 0, 0],\n",
       " [1, 0, 0, 0, 0, 0, 0, 0],\n",
       " [0, 1, 0, 0, 0, 0, 0, 0],\n",
       " [0, 1, 0, 0, 0, 0, 0, 0],\n",
       " [0, 1, 0, 0, 0, 0, 0, 0]]"
      ]
     },
     "execution_count": 33,
     "metadata": {},
     "output_type": "execute_result"
    }
   ],
   "source": [
    "charcaters_seq"
   ]
  },
  {
   "cell_type": "code",
   "execution_count": 45,
   "id": "2733e920-8990-48d4-b9cb-bd153a18a5a3",
   "metadata": {},
   "outputs": [
    {
     "data": {
      "text/plain": [
       "tensor([1, 0, 1, 1, 1, 1], dtype=torch.int8)"
      ]
     },
     "execution_count": 45,
     "metadata": {},
     "output_type": "execute_result"
    }
   ],
   "source": [
    "dataset.visual_valids[0]"
   ]
  },
  {
   "cell_type": "code",
   "execution_count": 47,
   "id": "1e52913f-0627-43dd-b6df-0da383a55a79",
   "metadata": {},
   "outputs": [
    {
     "data": {
      "text/plain": [
       "torch.Size([6, 4302])"
      ]
     },
     "execution_count": 47,
     "metadata": {},
     "output_type": "execute_result"
    }
   ],
   "source": [
    "dataset.visual_features[0].shape"
   ]
  },
  {
   "cell_type": "code",
   "execution_count": 48,
   "id": "d5fa33ac-7a70-4e63-ac03-f6f57b2b7439",
   "metadata": {},
   "outputs": [
    {
     "data": {
      "text/plain": [
       "tensor([0, 0, 1, 0, 0, 0], dtype=torch.int8)"
      ]
     },
     "execution_count": 48,
     "metadata": {},
     "output_type": "execute_result"
    }
   ],
   "source": [
    "dataset.target_loc[0]"
   ]
  },
  {
   "cell_type": "code",
   "execution_count": 49,
   "id": "0d58d384-b7dc-4221-b141-1b149b7eca44",
   "metadata": {},
   "outputs": [
    {
     "data": {
      "text/plain": [
       "2"
      ]
     },
     "execution_count": 49,
     "metadata": {},
     "output_type": "execute_result"
    }
   ],
   "source": [
    "dataset.n_character[0]"
   ]
  },
  {
   "cell_type": "code",
   "execution_count": 50,
   "id": "b2a562b7-19d5-4e69-a896-758ec5edbd6e",
   "metadata": {},
   "outputs": [
    {
     "data": {
      "text/plain": [
       "3"
      ]
     },
     "execution_count": 50,
     "metadata": {},
     "output_type": "execute_result"
    }
   ],
   "source": [
    "dataset.seg_len[0]"
   ]
  },
  {
   "cell_type": "code",
   "execution_count": 52,
   "id": "ee8f4e5b-e224-453e-830f-0a810b8f3b03",
   "metadata": {},
   "outputs": [],
   "source": [
    "data = next(iter(data_loader)) "
   ]
  },
  {
   "cell_type": "code",
   "execution_count": 54,
   "id": "651352fe-0a7c-4a92-85c9-97078e925a65",
   "metadata": {},
   "outputs": [],
   "source": [
    "target, U_v, U_a, U_t, U_p, M_v, M_a, M_t, target_loc, umask, seg_len, n_c = [d for d in data]\n",
    "           "
   ]
  },
  {
   "cell_type": "code",
   "execution_count": 61,
   "id": "f6b42f6e-2981-47db-b7d0-d304006f10fb",
   "metadata": {},
   "outputs": [
    {
     "data": {
      "text/plain": [
       "tensor([[ 0.0000,  0.0000,  0.0000,  ...,  0.0000,  0.0000,  0.0000],\n",
       "        [-0.4642, -0.1232, -0.5972,  ..., -0.4113, -0.2036,  0.3357],\n",
       "        [ 0.0000,  0.0000,  0.0000,  ...,  0.0000,  0.0000,  0.0000],\n",
       "        [-0.4539, -0.2744, -0.1105,  ..., -0.0808,  0.0839,  0.0051],\n",
       "        [ 0.0000,  0.0000,  0.0000,  ...,  0.0000,  0.0000,  0.0000],\n",
       "        [-0.2883,  0.3014, -0.3497,  ..., -0.2069,  0.0710, -0.2053]])"
      ]
     },
     "execution_count": 61,
     "metadata": {},
     "output_type": "execute_result"
    }
   ],
   "source": [
    "dataset.text_features[0]"
   ]
  },
  {
   "cell_type": "code",
   "execution_count": 9,
   "id": "f135a885-7066-4c3c-8769-ed49fa759623",
   "metadata": {},
   "outputs": [],
   "source": [
    "from features import AudioFeatureExtractor, TextFeatureExtractor, VisualFeatureExtractor, PersonalityFeatureExtractor"
   ]
  },
  {
   "cell_type": "code",
   "execution_count": 10,
   "id": "337cb8b1-d94c-4726-b168-2848abe02ae6",
   "metadata": {},
   "outputs": [
    {
     "name": "stdout",
     "output_type": "stream",
     "text": [
      "Initializing TextFeatureExtractor...\n"
     ]
    }
   ],
   "source": [
    "tfe = TextFeatureExtractor(config)"
   ]
  },
  {
   "cell_type": "code",
   "execution_count": 9,
   "id": "b3909d1e-24f7-4505-a2cc-22005fce6b6e",
   "metadata": {},
   "outputs": [],
   "source": [
    "#tfe.features['S01E01_000+2']"
   ]
  },
  {
   "cell_type": "markdown",
   "id": "55d15c76-badd-4468-8785-2e8fedc5a2be",
   "metadata": {},
   "source": [
    "--------------------------------------------"
   ]
  },
  {
   "cell_type": "code",
   "execution_count": 6,
   "id": "7e22db9c-6204-4003-9914-cbb856a434e6",
   "metadata": {},
   "outputs": [],
   "source": [
    "from features_add import AddTextFeatureExtractor"
   ]
  },
  {
   "cell_type": "code",
   "execution_count": 7,
   "id": "568c576d-bdee-462d-9d08-692f735ff451",
   "metadata": {},
   "outputs": [
    {
     "name": "stdout",
     "output_type": "stream",
     "text": [
      "Initializing Add_TextFeatureExtractor...\n"
     ]
    }
   ],
   "source": [
    "a_tfe = AddTextFeatureExtractor(config)"
   ]
  },
  {
   "cell_type": "code",
   "execution_count": 13,
   "id": "766ef94f-530b-40e6-a3f4-153b4b41815d",
   "metadata": {},
   "outputs": [
    {
     "data": {
      "text/plain": [
       "torch.Size([9, 1024])"
      ]
     },
     "execution_count": 13,
     "metadata": {},
     "output_type": "execute_result"
    }
   ],
   "source": [
    "tfe.get_feature(\"S01E01_000\", 2)[0].shape"
   ]
  },
  {
   "cell_type": "code",
   "execution_count": 12,
   "id": "75d69f91-8493-4c46-a938-9329aa8a5f41",
   "metadata": {},
   "outputs": [
    {
     "data": {
      "text/plain": [
       "torch.Size([9, 24])"
      ]
     },
     "execution_count": 12,
     "metadata": {},
     "output_type": "execute_result"
    }
   ],
   "source": [
    "a_tfe.get_feature(\"S01E01_000\", 2)[0].shape"
   ]
  },
  {
   "cell_type": "code",
   "execution_count": 14,
   "id": "e385fbe6-e1d1-4c70-9caf-1bfc50257a51",
   "metadata": {},
   "outputs": [],
   "source": [
    "#a_tfe.data.keys()"
   ]
  },
  {
   "cell_type": "code",
   "execution_count": null,
   "id": "40030822-2813-414b-a083-b5d23a3ac7fc",
   "metadata": {},
   "outputs": [],
   "source": []
  }
 ],
 "metadata": {
  "kernelspec": {
   "display_name": "mm",
   "language": "python",
   "name": "mm"
  },
  "language_info": {
   "codemirror_mode": {
    "name": "ipython",
    "version": 3
   },
   "file_extension": ".py",
   "mimetype": "text/x-python",
   "name": "python",
   "nbconvert_exporter": "python",
   "pygments_lexer": "ipython3",
   "version": "3.7.11"
  }
 },
 "nbformat": 4,
 "nbformat_minor": 5
}
