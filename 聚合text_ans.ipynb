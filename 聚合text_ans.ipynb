{
 "cells": [
  {
   "cell_type": "code",
   "execution_count": 1,
   "id": "13780cab-459d-4462-9e1e-dbe9b59dc3cc",
   "metadata": {},
   "outputs": [],
   "source": [
    "import json\n",
    "import os"
   ]
  },
  {
   "cell_type": "code",
   "execution_count": 2,
   "id": "72aabe30-0034-427c-b20b-5c4433b88fa4",
   "metadata": {},
   "outputs": [],
   "source": [
    "PARSED_TEXT_FOLDER = \"./parsed_data/memor_text_answers\""
   ]
  },
  {
   "cell_type": "code",
   "execution_count": 3,
   "id": "b5b549cb-edda-45b6-a269-655b419400cd",
   "metadata": {},
   "outputs": [],
   "source": [
    "gathered_json = {}"
   ]
  },
  {
   "cell_type": "code",
   "execution_count": 4,
   "id": "d1494d7d-ec28-42c7-a8d0-8709196a2a79",
   "metadata": {},
   "outputs": [
    {
     "data": {
      "application/vnd.jupyter.widget-view+json": {
       "model_id": "9f06391cdd19401a8527e8d1451c6b9e",
       "version_major": 2,
       "version_minor": 0
      },
      "text/plain": [
       "HBox(children=(FloatProgress(value=0.0, max=5502.0), HTML(value='')))"
      ]
     },
     "metadata": {},
     "output_type": "display_data"
    },
    {
     "name": "stdout",
     "output_type": "stream",
     "text": [
      "\n"
     ]
    }
   ],
   "source": [
    "from tqdm.auto import tqdm\n",
    "\n",
    "for clip in tqdm(sorted(os.listdir(PARSED_TEXT_FOLDER))):\n",
    "    for json_file in sorted(os.listdir(os.path.join(PARSED_TEXT_FOLDER, clip))):\n",
    "        json_path = os.path.join(PARSED_TEXT_FOLDER, clip, json_file)\n",
    "        if \".ipynb\" in json_path:\n",
    "            continue\n",
    "        \n",
    "        ii = json_file.split(\".\")[0]\n",
    "        index = \"{}+{}\".format(clip, ii)\n",
    "        text_json = json.load(open(json_path))\n",
    "        \n",
    "        gathered_json[index] = text_json[\"answer_vec\"]"
   ]
  },
  {
   "cell_type": "code",
   "execution_count": 6,
   "id": "13b0b655-27ca-49b8-87ba-d4d343210a44",
   "metadata": {},
   "outputs": [],
   "source": [
    "json.dump(gathered_json, open(PARSED_TEXT_FOLDER + \"/../gathered_text_ans.json\", \"w\"), indent = 4)"
   ]
  },
  {
   "cell_type": "code",
   "execution_count": null,
   "id": "703d7f20-25d6-4b34-95bd-4411c579bb64",
   "metadata": {},
   "outputs": [],
   "source": []
  }
 ],
 "metadata": {
  "kernelspec": {
   "display_name": "mm",
   "language": "python",
   "name": "mm"
  },
  "language_info": {
   "codemirror_mode": {
    "name": "ipython",
    "version": 3
   },
   "file_extension": ".py",
   "mimetype": "text/x-python",
   "name": "python",
   "nbconvert_exporter": "python",
   "pygments_lexer": "ipython3",
   "version": "3.7.11"
  }
 },
 "nbformat": 4,
 "nbformat_minor": 5
}
