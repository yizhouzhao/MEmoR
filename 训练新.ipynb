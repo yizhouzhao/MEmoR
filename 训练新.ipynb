{
 "cells": [
  {
   "cell_type": "code",
   "execution_count": null,
   "id": "1f4f496e-1287-48da-bab5-86d87a3476ca",
   "metadata": {
    "tags": []
   },
   "outputs": [],
   "source": [
    "import argparse\n",
    "import collections\n",
    "import torch\n",
    "import numpy as np\n",
    "import model.loss as module_loss\n",
    "import model.metric as module_metric\n",
    "from parse_config import ConfigParser\n",
    "from utils.util import create_model, create_dataloader, create_trainer\n"
   ]
  },
  {
   "cell_type": "code",
   "execution_count": null,
   "id": "be6ed3a7-238b-4f05-aa98-54738b9f6959",
   "metadata": {},
   "outputs": [],
   "source": [
    "# fix random seeds for reproducibility\n",
    "SEED = 125\n",
    "torch.manual_seed(SEED)\n",
    "torch.backends.cudnn.deterministic = True\n",
    "torch.backends.cudnn.benchmark = False\n",
    "np.random.seed(SEED)"
   ]
  },
  {
   "cell_type": "code",
   "execution_count": null,
   "id": "66853d0a-532e-4946-a829-80fef9ce01b1",
   "metadata": {},
   "outputs": [],
   "source": [
    "args = argparse.ArgumentParser(description='Emotion Reasoning in Daily Life')\n",
    "args.add_argument('-c', '--config', default='train.json', type=str,\n",
    "                  help='config file path (default: None)')\n",
    "args.add_argument('-r', '--resume', default=None, type=str,\n",
    "                  help='path to latest checkpoint (default: None)')\n",
    "args.add_argument('-d', '--device', default=\"0\", type=str,\n",
    "                  help='indices of GPUs to enable (default: all)')\n",
    "\n",
    "# custom cli options to modify configuration from default values given in json file.\n",
    "CustomArgs = collections.namedtuple('CustomArgs', 'flags type target')\n",
    "options = [\n",
    "    CustomArgs(['--lr', '--learning_rate'], type=float, target='optimizer;args;lr'),\n",
    "    CustomArgs(['--bs', '--batch_size'], type=int, target='data_loader;args;batch_size')\n",
    "]"
   ]
  },
  {
   "cell_type": "code",
   "execution_count": null,
   "id": "2f8e4206-60cc-45d7-8683-aac2bb70cb1f",
   "metadata": {},
   "outputs": [],
   "source": [
    "config = ConfigParser.from_args(args, options)"
   ]
  },
  {
   "cell_type": "code",
   "execution_count": null,
   "id": "7b0f270d-443d-4b07-936a-18bb0017af22",
   "metadata": {},
   "outputs": [],
   "source": [
    "config._config['name'] += \"_add_text\""
   ]
  },
  {
   "cell_type": "code",
   "execution_count": null,
   "id": "a5f0df29-9384-415c-9e45-cdcb3df2c215",
   "metadata": {},
   "outputs": [],
   "source": [
    "print(config._config)"
   ]
  },
  {
   "cell_type": "code",
   "execution_count": null,
   "id": "563f9d52-5aff-410d-94dc-8ad11729124f",
   "metadata": {},
   "outputs": [],
   "source": [
    "logger = config.get_logger('train')"
   ]
  },
  {
   "cell_type": "code",
   "execution_count": null,
   "id": "5cc5a15c-e1e1-4ef5-8855-89e7d5ac5a80",
   "metadata": {},
   "outputs": [],
   "source": [
    "from data_loader_add.data_loader_add import AddMEmoRDataLoader"
   ]
  },
  {
   "cell_type": "code",
   "execution_count": null,
   "id": "1d997c58-1cac-4948-bdbc-b20ee3a44bce",
   "metadata": {},
   "outputs": [],
   "source": [
    "# setup data_loader instances\n",
    "data_loader = AddMEmoRDataLoader(config)\n",
    "valid_data_loader = data_loader.split_validation()"
   ]
  },
  {
   "cell_type": "code",
   "execution_count": null,
   "id": "ca4f6fd9-e09f-408e-8fe2-91e19910b8b5",
   "metadata": {},
   "outputs": [],
   "source": [
    "from model_add.model_add import AddAMER"
   ]
  },
  {
   "cell_type": "code",
   "execution_count": null,
   "id": "3b1b8c31-4e5d-4748-a5be-1ef7b4728ec3",
   "metadata": {},
   "outputs": [],
   "source": [
    "# build model architecture, then print to console\n",
    "model = AddAMER(config)"
   ]
  },
  {
   "cell_type": "code",
   "execution_count": null,
   "id": "6e5d9e24-b7cb-4c1b-8edd-c5e9b07b3107",
   "metadata": {},
   "outputs": [],
   "source": [
    "# get function handles of loss and metrics\n",
    "criterion = getattr(module_loss, config['loss'])\n",
    "metrics = [getattr(module_metric, met) for met in config['metrics']]"
   ]
  },
  {
   "cell_type": "code",
   "execution_count": null,
   "id": "ecd77492-43c5-461a-9c92-c168189896c5",
   "metadata": {},
   "outputs": [],
   "source": [
    "from trainer_add import AddMEmoRTrainer"
   ]
  },
  {
   "cell_type": "code",
   "execution_count": null,
   "id": "b084e7d2-d02d-4005-a46c-0f95eef5594e",
   "metadata": {},
   "outputs": [],
   "source": [
    "trainer = AddMEmoRTrainer(model, criterion, metrics,\n",
    "                      config=config,\n",
    "                      data_loader=data_loader,\n",
    "                      valid_data_loader=valid_data_loader,\n",
    "                    )      "
   ]
  },
  {
   "cell_type": "code",
   "execution_count": null,
   "id": "41ae965e-a253-4bd3-b41e-87e6d07af8ec",
   "metadata": {},
   "outputs": [],
   "source": [
    "print(next(trainer.model.parameters()).is_cuda)"
   ]
  },
  {
   "cell_type": "code",
   "execution_count": null,
   "id": "b712c8da-4bae-4c0c-b82e-e27bce9e5287",
   "metadata": {},
   "outputs": [],
   "source": [
    "trainer.train()"
   ]
  },
  {
   "cell_type": "code",
   "execution_count": null,
   "id": "2ef28178-70c7-4d2e-8375-ee1a3dbf46b2",
   "metadata": {},
   "outputs": [],
   "source": [
    "exit()"
   ]
  },
  {
   "cell_type": "code",
   "execution_count": null,
   "id": "afddd602-519b-4850-a29d-0949f8a68819",
   "metadata": {},
   "outputs": [],
   "source": [
    "target, U_v, U_a, U_t, U_p, M_v, M_a, M_t, target_loc, umask, seg_len, n_c, U_t_add = next(iter(data_loader))"
   ]
  },
  {
   "cell_type": "code",
   "execution_count": null,
   "id": "52160df8-4c26-4231-b1c7-5393d4e3b2d6",
   "metadata": {},
   "outputs": [],
   "source": [
    "U_t.shape"
   ]
  },
  {
   "cell_type": "code",
   "execution_count": null,
   "id": "ee2b2f98-5bdc-4a69-a4b0-17b342390f3a",
   "metadata": {},
   "outputs": [],
   "source": [
    "U_t"
   ]
  },
  {
   "cell_type": "code",
   "execution_count": null,
   "id": "6c004b2a-08a6-4d0c-bf90-7b5405bfff90",
   "metadata": {},
   "outputs": [],
   "source": [
    "U_t_add.shape"
   ]
  },
  {
   "cell_type": "code",
   "execution_count": null,
   "id": "73840ed0-fc4e-4239-a197-0a340cb60937",
   "metadata": {},
   "outputs": [],
   "source": [
    "import torch.nn as nn"
   ]
  },
  {
   "cell_type": "code",
   "execution_count": null,
   "id": "b6be7c46-ff09-4421-817c-163178bb0c7d",
   "metadata": {},
   "outputs": [],
   "source": [
    "enc_t_add = nn.Sequential(\n",
    "            nn.Linear(24, 128 * 4),\n",
    "            nn.ReLU(),\n",
    "            nn.Linear(128 * 4, int(0.5 * 128)), # D_e = 128\n",
    "        )    "
   ]
  },
  {
   "cell_type": "code",
   "execution_count": null,
   "id": "2e341d2c-07f1-4d1a-8bdc-cef0b3924b39",
   "metadata": {},
   "outputs": [],
   "source": []
  },
  {
   "cell_type": "code",
   "execution_count": null,
   "id": "269c4cc5-2791-4bc6-83d6-caf239120721",
   "metadata": {},
   "outputs": [],
   "source": []
  }
 ],
 "metadata": {
  "kernelspec": {
   "display_name": "mm",
   "language": "python",
   "name": "mm"
  },
  "language_info": {
   "codemirror_mode": {
    "name": "ipython",
    "version": 3
   },
   "file_extension": ".py",
   "mimetype": "text/x-python",
   "name": "python",
   "nbconvert_exporter": "python",
   "pygments_lexer": "ipython3",
   "version": "3.7.11"
  }
 },
 "nbformat": 4,
 "nbformat_minor": 5
}
