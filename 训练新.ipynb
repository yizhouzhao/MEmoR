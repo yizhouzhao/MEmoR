{
 "cells": [
  {
   "cell_type": "code",
   "execution_count": 1,
   "id": "1f4f496e-1287-48da-bab5-86d87a3476ca",
   "metadata": {
    "tags": []
   },
   "outputs": [],
   "source": [
    "import argparse\n",
    "import collections\n",
    "import torch\n",
    "import numpy as np\n",
    "import model.loss as module_loss\n",
    "import model.metric as module_metric\n",
    "from parse_config import ConfigParser\n",
    "from utils.util import create_model, create_dataloader, create_trainer\n"
   ]
  },
  {
   "cell_type": "code",
   "execution_count": 2,
   "id": "be6ed3a7-238b-4f05-aa98-54738b9f6959",
   "metadata": {},
   "outputs": [],
   "source": [
    "# fix random seeds for reproducibility\n",
    "SEED = 125\n",
    "torch.manual_seed(SEED)\n",
    "torch.backends.cudnn.deterministic = True\n",
    "torch.backends.cudnn.benchmark = False\n",
    "np.random.seed(SEED)"
   ]
  },
  {
   "cell_type": "code",
   "execution_count": 3,
   "id": "66853d0a-532e-4946-a829-80fef9ce01b1",
   "metadata": {},
   "outputs": [],
   "source": [
    "args = argparse.ArgumentParser(description='Emotion Reasoning in Daily Life')\n",
    "args.add_argument('-c', '--config', default='train.json', type=str,\n",
    "                  help='config file path (default: None)')\n",
    "args.add_argument('-r', '--resume', default=None, type=str,\n",
    "                  help='path to latest checkpoint (default: None)')\n",
    "args.add_argument('-d', '--device', default=None, type=str,\n",
    "                  help='indices of GPUs to enable (default: all)')\n",
    "\n",
    "# custom cli options to modify configuration from default values given in json file.\n",
    "CustomArgs = collections.namedtuple('CustomArgs', 'flags type target')\n",
    "options = [\n",
    "    CustomArgs(['--lr', '--learning_rate'], type=float, target='optimizer;args;lr'),\n",
    "    CustomArgs(['--bs', '--batch_size'], type=int, target='data_loader;args;batch_size')\n",
    "]"
   ]
  },
  {
   "cell_type": "code",
   "execution_count": 4,
   "id": "2f8e4206-60cc-45d7-8683-aac2bb70cb1f",
   "metadata": {},
   "outputs": [
    {
     "name": "stdout",
     "output_type": "stream",
     "text": [
      "jupyter\n"
     ]
    }
   ],
   "source": [
    "config = ConfigParser.from_args(args, options)"
   ]
  },
  {
   "cell_type": "code",
   "execution_count": 5,
   "id": "7b0f270d-443d-4b07-936a-18bb0017af22",
   "metadata": {},
   "outputs": [],
   "source": [
    "config._config['name'] += \"_add_text\""
   ]
  },
  {
   "cell_type": "code",
   "execution_count": 6,
   "id": "a5f0df29-9384-415c-9e45-cdcb3df2c215",
   "metadata": {},
   "outputs": [
    {
     "name": "stdout",
     "output_type": "stream",
     "text": [
      "OrderedDict([('name', 'Train_9_2022_add_text'), ('message', 'MEmoR Baseline'), ('anno_file', 'data/anno.json'), ('data_file', 'data/data.json'), ('id_file', 'data/train_id.txt'), ('emo_type', 'primary'), ('speakers', ['sheldon', 'leonard', 'howard', 'rajesh', 'penny', 'bernadette', 'amy', 'others']), ('audio', OrderedDict([('feature_file', 'data/features/audio_features.json'), ('feature_dim', 6373)])), ('text', OrderedDict([('bert_model_name', 'bert-large-uncased'), ('feature_file', 'data/features/text_features.json'), ('feature_dim', 1024)])), ('visual', OrderedDict([('frame_path', 'data/clips_frames'), ('faces_feature_dir', 'data/features/visual_features/face_features'), ('faces_names_dir', 'data/features/visual_features/face_names'), ('obj_feature_dir', 'data/features/visual_features/object_features'), ('env_feature_dir', 'data/features/visual_features/environment_features'), ('dim_env', 2048), ('dim_obj', 1230), ('dim_face', 1024)])), ('personality', OrderedDict([('used', True), ('anno_file', 'data/features/character_features.csv'), ('feature_dim', 118)])), ('n_gpu', 1), ('data_loader', OrderedDict([('type', 'MEmoRDataLoader'), ('args', OrderedDict([('batch_size', 8), ('shuffle', True), ('validation_split', 0.2), ('num_workers', 2), ('seed', 2020)]))])), ('model', OrderedDict([('type', 'AMER'), ('args', OrderedDict([('D_e', 128)]))])), ('optimizer', OrderedDict([('type', 'Adam'), ('args', OrderedDict([('lr', 5e-05), ('weight_decay', 0), ('amsgrad', True)]))])), ('loss', 'nll_loss'), ('metrics', ['accuracy', 'macro_f1', 'weighted_f1']), ('lr_scheduler', OrderedDict([('type', 'StepLR'), ('args', OrderedDict([('step_size', 50), ('gamma', 0.9)]))])), ('trainer', OrderedDict([('type', 'MEmoRTrainer'), ('epochs', 1000), ('save_dir', 'saved/'), ('save_period', 50), ('verbosity', 2), ('monitor', 'max val_accuracy'), ('early_stop', 50), ('tensorboard', True)]))])\n"
     ]
    }
   ],
   "source": [
    "print(config._config)"
   ]
  },
  {
   "cell_type": "code",
   "execution_count": 7,
   "id": "563f9d52-5aff-410d-94dc-8ad11729124f",
   "metadata": {},
   "outputs": [],
   "source": [
    "logger = config.get_logger('train')"
   ]
  },
  {
   "cell_type": "code",
   "execution_count": 8,
   "id": "5cc5a15c-e1e1-4ef5-8855-89e7d5ac5a80",
   "metadata": {},
   "outputs": [],
   "source": [
    "from data_loader_add.data_loaders_add import AddMEmoRDataLoader"
   ]
  },
  {
   "cell_type": "code",
   "execution_count": 9,
   "id": "1d997c58-1cac-4948-bdbc-b20ee3a44bce",
   "metadata": {},
   "outputs": [
    {
     "name": "stdout",
     "output_type": "stream",
     "text": [
      "Initializing VisualFeatureExtractor...\n",
      "Initializing AudioFeatureExtracor...\n",
      "Initializing TextFeatureExtractor...\n",
      "Initializing PersonalityFeatureExtractor...\n",
      "Initializing Add_TextFeatureExtractor...\n"
     ]
    },
    {
     "name": "stderr",
     "output_type": "stream",
     "text": [
      "  0%|▏                                                                                                                                | 11/6829 [00:00<01:03, 107.54it/s]"
     ]
    },
    {
     "name": "stdout",
     "output_type": "stream",
     "text": [
      "vectorize features.....\n"
     ]
    },
    {
     "name": "stderr",
     "output_type": "stream",
     "text": [
      "100%|███████████████████████████████████████████████████████████████████████████████████████████████████████████████████████████████| 6829/6829 [01:03<00:00, 108.37it/s]\n"
     ]
    }
   ],
   "source": [
    "# setup data_loader instances\n",
    "data_loader = AddMEmoRDataLoader(config)\n",
    "valid_data_loader = data_loader.split_validation()"
   ]
  },
  {
   "cell_type": "code",
   "execution_count": 10,
   "id": "ca4f6fd9-e09f-408e-8fe2-91e19910b8b5",
   "metadata": {},
   "outputs": [],
   "source": [
    "from model_add.model_add import AddAMER"
   ]
  },
  {
   "cell_type": "code",
   "execution_count": 11,
   "id": "3b1b8c31-4e5d-4748-a5be-1ef7b4728ec3",
   "metadata": {},
   "outputs": [],
   "source": [
    "# build model architecture, then print to console\n",
    "model = AddAMER(config)"
   ]
  },
  {
   "cell_type": "code",
   "execution_count": 12,
   "id": "6e5d9e24-b7cb-4c1b-8edd-c5e9b07b3107",
   "metadata": {},
   "outputs": [],
   "source": [
    "# get function handles of loss and metrics\n",
    "criterion = getattr(module_loss, config['loss'])\n",
    "metrics = [getattr(module_metric, met) for met in config['metrics']]"
   ]
  },
  {
   "cell_type": "code",
   "execution_count": 13,
   "id": "ecd77492-43c5-461a-9c92-c168189896c5",
   "metadata": {},
   "outputs": [],
   "source": [
    "from utils.util import create_trainer"
   ]
  },
  {
   "cell_type": "code",
   "execution_count": 14,
   "id": "b084e7d2-d02d-4005-a46c-0f95eef5594e",
   "metadata": {},
   "outputs": [
    {
     "name": "stdout",
     "output_type": "stream",
     "text": [
      "trainer [MEmoRTrainer] was created\n",
      "AddAMER(\n",
      "  (attn): ScaledDotProductAttention(\n",
      "    (dropout): Dropout(p=0, inplace=False)\n",
      "  )\n",
      "  (enc_v): Sequential(\n",
      "    (0): Linear(in_features=4302, out_features=512, bias=True)\n",
      "    (1): ReLU()\n",
      "    (2): Linear(in_features=512, out_features=384, bias=True)\n",
      "    (3): ReLU()\n",
      "    (4): Linear(in_features=384, out_features=256, bias=True)\n",
      "  )\n",
      "  (enc_a): Sequential(\n",
      "    (0): Linear(in_features=6373, out_features=1024, bias=True)\n",
      "    (1): ReLU()\n",
      "    (2): Linear(in_features=1024, out_features=512, bias=True)\n",
      "    (3): ReLU()\n",
      "    (4): Linear(in_features=512, out_features=256, bias=True)\n",
      "  )\n",
      "  (enc_t): Sequential(\n",
      "    (0): Linear(in_features=1024, out_features=512, bias=True)\n",
      "    (1): ReLU()\n",
      "    (2): Linear(in_features=512, out_features=192, bias=True)\n",
      "  )\n",
      "  (enc_t_add): Sequential(\n",
      "    (0): Linear(in_features=24, out_features=512, bias=True)\n",
      "    (1): ReLU()\n",
      "    (2): Linear(in_features=512, out_features=64, bias=True)\n",
      "  )\n",
      "  (enc_p): Sequential(\n",
      "    (0): Linear(in_features=118, out_features=512, bias=True)\n",
      "    (1): ReLU()\n",
      "    (2): Linear(in_features=512, out_features=256, bias=True)\n",
      "  )\n",
      "  (out_layer): Sequential(\n",
      "    (0): Linear(in_features=512, out_features=256, bias=True)\n",
      "    (1): ReLU()\n",
      "    (2): Linear(in_features=256, out_features=9, bias=True)\n",
      "  )\n",
      "  (fusion_layer): Linear(in_features=1792, out_features=512, bias=True)\n",
      ")\n",
      "Trainable parameters: 11594633\n"
     ]
    }
   ],
   "source": [
    "trainer = create_trainer(model, criterion, metrics, logger,\n",
    "                  config=config,\n",
    "                  data_loader=data_loader,\n",
    "                  valid_data_loader=valid_data_loader\n",
    "                  )"
   ]
  },
  {
   "cell_type": "code",
   "execution_count": 15,
   "id": "b712c8da-4bae-4c0c-b82e-e27bce9e5287",
   "metadata": {},
   "outputs": [
    {
     "ename": "ValueError",
     "evalue": "too many values to unpack (expected 12)",
     "output_type": "error",
     "traceback": [
      "\u001b[0;31m---------------------------------------------------------------------------\u001b[0m",
      "\u001b[0;31mValueError\u001b[0m                                Traceback (most recent call last)",
      "\u001b[0;32m/tmp/ipykernel_45610/4032920361.py\u001b[0m in \u001b[0;36m<module>\u001b[0;34m\u001b[0m\n\u001b[0;32m----> 1\u001b[0;31m \u001b[0mtrainer\u001b[0m\u001b[0;34m.\u001b[0m\u001b[0mtrain\u001b[0m\u001b[0;34m(\u001b[0m\u001b[0;34m)\u001b[0m\u001b[0;34m\u001b[0m\u001b[0;34m\u001b[0m\u001b[0m\n\u001b[0m",
      "\u001b[0;32m~/Research/MEmor/MEmoR/base/base_trainer.py\u001b[0m in \u001b[0;36mtrain\u001b[0;34m(self)\u001b[0m\n\u001b[1;32m     67\u001b[0m         \u001b[0mbest_epoch\u001b[0m \u001b[0;34m=\u001b[0m \u001b[0;36m0\u001b[0m\u001b[0;34m\u001b[0m\u001b[0;34m\u001b[0m\u001b[0m\n\u001b[1;32m     68\u001b[0m         \u001b[0;32mfor\u001b[0m \u001b[0mepoch\u001b[0m \u001b[0;32min\u001b[0m \u001b[0mrange\u001b[0m\u001b[0;34m(\u001b[0m\u001b[0mself\u001b[0m\u001b[0;34m.\u001b[0m\u001b[0mstart_epoch\u001b[0m\u001b[0;34m,\u001b[0m \u001b[0mself\u001b[0m\u001b[0;34m.\u001b[0m\u001b[0mepochs\u001b[0m \u001b[0;34m+\u001b[0m \u001b[0;36m1\u001b[0m\u001b[0;34m)\u001b[0m\u001b[0;34m:\u001b[0m\u001b[0;34m\u001b[0m\u001b[0;34m\u001b[0m\u001b[0m\n\u001b[0;32m---> 69\u001b[0;31m             \u001b[0mresult\u001b[0m \u001b[0;34m=\u001b[0m \u001b[0mself\u001b[0m\u001b[0;34m.\u001b[0m\u001b[0m_train_epoch\u001b[0m\u001b[0;34m(\u001b[0m\u001b[0mepoch\u001b[0m\u001b[0;34m)\u001b[0m\u001b[0;34m\u001b[0m\u001b[0;34m\u001b[0m\u001b[0m\n\u001b[0m\u001b[1;32m     70\u001b[0m \u001b[0;34m\u001b[0m\u001b[0m\n\u001b[1;32m     71\u001b[0m             \u001b[0;31m# save logged informations into log dict\u001b[0m\u001b[0;34m\u001b[0m\u001b[0;34m\u001b[0m\u001b[0;34m\u001b[0m\u001b[0m\n",
      "\u001b[0;32m~/Research/MEmor/MEmoR/trainer/trainer.py\u001b[0m in \u001b[0;36m_train_epoch\u001b[0;34m(self, epoch)\u001b[0m\n\u001b[1;32m     35\u001b[0m         \u001b[0mself\u001b[0m\u001b[0;34m.\u001b[0m\u001b[0mtrain_metrics\u001b[0m\u001b[0;34m.\u001b[0m\u001b[0mreset\u001b[0m\u001b[0;34m(\u001b[0m\u001b[0;34m)\u001b[0m\u001b[0;34m\u001b[0m\u001b[0;34m\u001b[0m\u001b[0m\n\u001b[1;32m     36\u001b[0m         \u001b[0;32mfor\u001b[0m \u001b[0mbatch_idx\u001b[0m\u001b[0;34m,\u001b[0m \u001b[0mdata\u001b[0m \u001b[0;32min\u001b[0m \u001b[0menumerate\u001b[0m\u001b[0;34m(\u001b[0m\u001b[0mself\u001b[0m\u001b[0;34m.\u001b[0m\u001b[0mdata_loader\u001b[0m\u001b[0;34m)\u001b[0m\u001b[0;34m:\u001b[0m\u001b[0;34m\u001b[0m\u001b[0;34m\u001b[0m\u001b[0m\n\u001b[0;32m---> 37\u001b[0;31m             \u001b[0mtarget\u001b[0m\u001b[0;34m,\u001b[0m \u001b[0mU_v\u001b[0m\u001b[0;34m,\u001b[0m \u001b[0mU_a\u001b[0m\u001b[0;34m,\u001b[0m \u001b[0mU_t\u001b[0m\u001b[0;34m,\u001b[0m \u001b[0mU_p\u001b[0m\u001b[0;34m,\u001b[0m \u001b[0mM_v\u001b[0m\u001b[0;34m,\u001b[0m \u001b[0mM_a\u001b[0m\u001b[0;34m,\u001b[0m \u001b[0mM_t\u001b[0m\u001b[0;34m,\u001b[0m \u001b[0mtarget_loc\u001b[0m\u001b[0;34m,\u001b[0m \u001b[0mumask\u001b[0m\u001b[0;34m,\u001b[0m \u001b[0mseg_len\u001b[0m\u001b[0;34m,\u001b[0m \u001b[0mn_c\u001b[0m \u001b[0;34m=\u001b[0m \u001b[0;34m[\u001b[0m\u001b[0md\u001b[0m\u001b[0;34m.\u001b[0m\u001b[0mto\u001b[0m\u001b[0;34m(\u001b[0m\u001b[0mself\u001b[0m\u001b[0;34m.\u001b[0m\u001b[0mdevice\u001b[0m\u001b[0;34m)\u001b[0m \u001b[0;32mfor\u001b[0m \u001b[0md\u001b[0m \u001b[0;32min\u001b[0m \u001b[0mdata\u001b[0m\u001b[0;34m]\u001b[0m\u001b[0;34m\u001b[0m\u001b[0;34m\u001b[0m\u001b[0m\n\u001b[0m\u001b[1;32m     38\u001b[0m \u001b[0;34m\u001b[0m\u001b[0m\n\u001b[1;32m     39\u001b[0m             \u001b[0mself\u001b[0m\u001b[0;34m.\u001b[0m\u001b[0moptimizer\u001b[0m\u001b[0;34m.\u001b[0m\u001b[0mzero_grad\u001b[0m\u001b[0;34m(\u001b[0m\u001b[0;34m)\u001b[0m\u001b[0;34m\u001b[0m\u001b[0;34m\u001b[0m\u001b[0m\n",
      "\u001b[0;31mValueError\u001b[0m: too many values to unpack (expected 12)"
     ]
    }
   ],
   "source": [
    "trainer.train()"
   ]
  },
  {
   "cell_type": "code",
   "execution_count": null,
   "id": "968fc41e-96e1-460d-8c9b-17f0f8b71aee",
   "metadata": {},
   "outputs": [],
   "source": []
  }
 ],
 "metadata": {
  "kernelspec": {
   "display_name": "mm",
   "language": "python",
   "name": "mm"
  },
  "language_info": {
   "codemirror_mode": {
    "name": "ipython",
    "version": 3
   },
   "file_extension": ".py",
   "mimetype": "text/x-python",
   "name": "python",
   "nbconvert_exporter": "python",
   "pygments_lexer": "ipython3",
   "version": "3.7.11"
  }
 },
 "nbformat": 4,
 "nbformat_minor": 5
}
