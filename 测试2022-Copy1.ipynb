{
 "cells": [
  {
   "cell_type": "code",
   "execution_count": 1,
   "id": "230c835c-43af-4558-9a70-1e8092b8b0bb",
   "metadata": {},
   "outputs": [],
   "source": [
    "import numpy as np"
   ]
  },
  {
   "cell_type": "code",
   "execution_count": 2,
   "id": "50d6e10d-16f7-4ee1-8217-ab655244ed6b",
   "metadata": {},
   "outputs": [],
   "source": [
    "import argparse\n",
    "import torch\n",
    "from tqdm import tqdm\n",
    "import model.metric as module_metric\n",
    "import model.loss as module_loss\n",
    "from parse_config import ConfigParser\n",
    "from utils.util import create_model, create_dataloader\n"
   ]
  },
  {
   "cell_type": "code",
   "execution_count": 3,
   "id": "25152659-9ca2-4661-aab3-5bda0b131fa5",
   "metadata": {},
   "outputs": [
    {
     "data": {
      "text/plain": [
       "_StoreAction(option_strings=['-d', '--device'], dest='device', nargs=None, const=None, default=None, type=<class 'str'>, choices=None, help='indices of GPUs to enable (default: all)', metavar=None)"
      ]
     },
     "execution_count": 3,
     "metadata": {},
     "output_type": "execute_result"
    }
   ],
   "source": [
    "args = argparse.ArgumentParser(description='PyTorch Template')\n",
    "args.add_argument('-c', '--config', default=\"test.json\", type=str,\n",
    "                  help='config file path (default: None)')\n",
    "args.add_argument('-r', '--resume', default=None, type=str,\n",
    "                  help='path to latest checkpoint (default: None)')\n",
    "args.add_argument('-d', '--device', default=None, type=str,\n",
    "                  help='indices of GPUs to enable (default: all)')"
   ]
  },
  {
   "cell_type": "code",
   "execution_count": 4,
   "id": "435fd291-3762-497d-b6c9-5ced64eaa4ed",
   "metadata": {},
   "outputs": [],
   "source": [
    "config = ConfigParser.from_args(args)"
   ]
  },
  {
   "cell_type": "code",
   "execution_count": 5,
   "id": "4f59a464-a459-4652-8944-da5a066e4561",
   "metadata": {},
   "outputs": [],
   "source": [
    "#config._config"
   ]
  },
  {
   "cell_type": "code",
   "execution_count": 6,
   "id": "9109bef8-93cd-49be-94fd-8441acfc4b9b",
   "metadata": {},
   "outputs": [
    {
     "name": "stdout",
     "output_type": "stream",
     "text": [
      "model [AMER] was created\n"
     ]
    }
   ],
   "source": [
    "model = create_model(config)"
   ]
  },
  {
   "cell_type": "code",
   "execution_count": 7,
   "id": "270da7d9-dac4-42f1-a479-24f9fcdb2937",
   "metadata": {},
   "outputs": [],
   "source": [
    "device = torch.device('cuda' if torch.cuda.is_available() else 'cpu')\n",
    "model.initialize(config, device)"
   ]
  },
  {
   "cell_type": "code",
   "execution_count": 8,
   "id": "cc342bdb-960d-4755-ac45-4761a5c61a7b",
   "metadata": {},
   "outputs": [],
   "source": [
    "# model.load_state_dict(torch.load(\"data/pretrained/train_test_9.pth\"))"
   ]
  },
  {
   "cell_type": "code",
   "execution_count": 9,
   "id": "f4c60fbd-8dea-45ff-b48f-5315fb84f30d",
   "metadata": {},
   "outputs": [],
   "source": [
    "checkpoint = torch.load(\"data/pretrained/train_test_9.pth\")\n",
    "state_dict = checkpoint['state_dict']"
   ]
  },
  {
   "cell_type": "code",
   "execution_count": 10,
   "id": "7fe718ed-8f72-47d1-a329-13a38e320890",
   "metadata": {},
   "outputs": [
    {
     "data": {
      "text/plain": [
       "<All keys matched successfully>"
      ]
     },
     "execution_count": 10,
     "metadata": {},
     "output_type": "execute_result"
    }
   ],
   "source": [
    "model.load_state_dict(state_dict)"
   ]
  },
  {
   "cell_type": "code",
   "execution_count": 11,
   "id": "eb41eeb3-1760-4146-9086-5be707a53f01",
   "metadata": {},
   "outputs": [
    {
     "data": {
      "text/plain": [
       "AMER(\n",
       "  (attn): ScaledDotProductAttention(\n",
       "    (dropout): Dropout(p=0, inplace=False)\n",
       "  )\n",
       "  (enc_v): Sequential(\n",
       "    (0): Linear(in_features=4302, out_features=512, bias=True)\n",
       "    (1): ReLU()\n",
       "    (2): Linear(in_features=512, out_features=384, bias=True)\n",
       "    (3): ReLU()\n",
       "    (4): Linear(in_features=384, out_features=256, bias=True)\n",
       "  )\n",
       "  (enc_a): Sequential(\n",
       "    (0): Linear(in_features=6373, out_features=1024, bias=True)\n",
       "    (1): ReLU()\n",
       "    (2): Linear(in_features=1024, out_features=512, bias=True)\n",
       "    (3): ReLU()\n",
       "    (4): Linear(in_features=512, out_features=256, bias=True)\n",
       "  )\n",
       "  (enc_t): Sequential(\n",
       "    (0): Linear(in_features=1024, out_features=512, bias=True)\n",
       "    (1): ReLU()\n",
       "    (2): Linear(in_features=512, out_features=256, bias=True)\n",
       "  )\n",
       "  (enc_p): Sequential(\n",
       "    (0): Linear(in_features=118, out_features=512, bias=True)\n",
       "    (1): ReLU()\n",
       "    (2): Linear(in_features=512, out_features=256, bias=True)\n",
       "  )\n",
       "  (out_layer): Sequential(\n",
       "    (0): Linear(in_features=512, out_features=256, bias=True)\n",
       "    (1): ReLU()\n",
       "    (2): Linear(in_features=256, out_features=9, bias=True)\n",
       "  )\n",
       "  (fusion_layer): Linear(in_features=1792, out_features=512, bias=True)\n",
       ")"
      ]
     },
     "execution_count": 11,
     "metadata": {},
     "output_type": "execute_result"
    }
   ],
   "source": [
    "# prepare model for testing\n",
    "model = model.to(device)\n",
    "model.eval()"
   ]
  },
  {
   "cell_type": "code",
   "execution_count": 12,
   "id": "1effbbcd-975f-4c80-a3be-a8f8bac7c604",
   "metadata": {},
   "outputs": [],
   "source": [
    "metric_fns = [getattr(module_metric, met) for met in config['metrics']]\n",
    "loss_fn = getattr(module_loss, config['loss'])\n",
    "total_loss = 0.0\n",
    "total_metrics = torch.zeros(len(metric_fns))"
   ]
  },
  {
   "cell_type": "code",
   "execution_count": 13,
   "id": "37f4f21a-a4d1-4cfd-b0ab-f770bfa3e5c1",
   "metadata": {},
   "outputs": [
    {
     "name": "stdout",
     "output_type": "stream",
     "text": [
      "Initializing VisualFeatureExtractor...\n",
      "Initializing AudioFeatureExtracor...\n",
      "Initializing TextFeatureExtractor...\n"
     ]
    },
    {
     "name": "stderr",
     "output_type": "stream",
     "text": [
      "  1%|▍                                                  | 14/1707 [00:00<00:12, 139.55it/s]"
     ]
    },
    {
     "name": "stdout",
     "output_type": "stream",
     "text": [
      "Initializing PersonalityFeatureExtractor...\n"
     ]
    },
    {
     "name": "stderr",
     "output_type": "stream",
     "text": [
      "100%|█████████████████████████████████████████████████| 1707/1707 [00:12<00:00, 139.68it/s]"
     ]
    },
    {
     "name": "stdout",
     "output_type": "stream",
     "text": [
      "dataset [MEmoRDataLoader] was created\n"
     ]
    },
    {
     "name": "stderr",
     "output_type": "stream",
     "text": [
      "\n"
     ]
    }
   ],
   "source": [
    "data_loader = create_dataloader(config)"
   ]
  },
  {
   "cell_type": "code",
   "execution_count": 14,
   "id": "cd7b162e-260d-46b1-b275-1f05d8868c64",
   "metadata": {},
   "outputs": [],
   "source": [
    "import warnings\n",
    "warnings.filterwarnings('ignore')"
   ]
  },
  {
   "cell_type": "code",
   "execution_count": 15,
   "id": "747dcb41-8ae1-4464-8bef-f3a9c6d0b65f",
   "metadata": {},
   "outputs": [
    {
     "name": "stderr",
     "output_type": "stream",
     "text": [
      "100%|████████████████████████████████████████████████████| 214/214 [00:12<00:00, 17.76it/s]\n"
     ]
    }
   ],
   "source": [
    "with torch.no_grad():\n",
    "    for i, data in enumerate(tqdm(data_loader)):\n",
    "        target, U_v, U_a, U_t, U_p, M_v, M_a, M_t, target_loc, umask, seg_len, n_c = [d.to(device) for d in data]\n",
    "        seq_lengths = [(umask[j] == 1).nonzero().tolist()[-1][0] + 1 for j in range(len(umask))]\n",
    "        output = model(U_v, U_a, U_t, U_p, M_v, M_a, M_t, seq_lengths, target_loc, seg_len, n_c)\n",
    "        target = target.squeeze(1)\n",
    "        loss = loss_fn(output, target)\n",
    "        batch_size = U_v.shape[0]\n",
    "        total_loss += loss.item() * batch_size\n",
    "        for i, metric in enumerate(metric_fns):\n",
    "            total_metrics[i] += metric(output, target) * batch_size"
   ]
  },
  {
   "cell_type": "code",
   "execution_count": 16,
   "id": "bab7d49c-ec39-4a4e-9c6d-17cbed2c4f60",
   "metadata": {},
   "outputs": [],
   "source": [
    "logger = config.get_logger('test')"
   ]
  },
  {
   "cell_type": "code",
   "execution_count": 17,
   "id": "720d9564-e7da-4668-99d7-bfa1e6800ca3",
   "metadata": {},
   "outputs": [
    {
     "name": "stdout",
     "output_type": "stream",
     "text": [
      "{'loss': 4.352610321860601, 'accuracy': 0.4774458113649678, 'macro_f1': 0.3351415400625183, 'weighted_f1': 0.46724096207710897}\n"
     ]
    }
   ],
   "source": [
    "n_samples = len(data_loader.sampler)\n",
    "log = {'loss': total_loss / n_samples}\n",
    "log.update({\n",
    "    met.__name__: total_metrics[i].item() / n_samples for i, met in enumerate(metric_fns)\n",
    "})\n",
    "logger.info(log)"
   ]
  },
  {
   "cell_type": "code",
   "execution_count": 18,
   "id": "1d48423c-e74d-419b-b665-33d45bbc938d",
   "metadata": {},
   "outputs": [
    {
     "data": {
      "text/plain": [
       "'data/anno.json'"
      ]
     },
     "execution_count": 18,
     "metadata": {},
     "output_type": "execute_result"
    }
   ],
   "source": [
    "config._config['anno_file']"
   ]
  },
  {
   "cell_type": "code",
   "execution_count": 19,
   "id": "54e90671-1a0e-423b-b8f0-19d053b425b8",
   "metadata": {},
   "outputs": [],
   "source": [
    "# all data\n",
    "# {'loss': 0.9204926241213913, 'accuracy': 0.8795688847235239, 'macro_f1': 0.8151952713141402, 'weighted_f1': 0.8721875205929299}"
   ]
  }
 ],
 "metadata": {
  "kernelspec": {
   "display_name": "mm",
   "language": "python",
   "name": "mm"
  },
  "language_info": {
   "codemirror_mode": {
    "name": "ipython",
    "version": 3
   },
   "file_extension": ".py",
   "mimetype": "text/x-python",
   "name": "python",
   "nbconvert_exporter": "python",
   "pygments_lexer": "ipython3",
   "version": "3.7.11"
  }
 },
 "nbformat": 4,
 "nbformat_minor": 5
}
